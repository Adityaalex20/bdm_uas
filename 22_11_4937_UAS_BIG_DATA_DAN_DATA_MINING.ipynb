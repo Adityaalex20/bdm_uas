{
  "nbformat": 4,
  "nbformat_minor": 0,
  "metadata": {
    "colab": {
      "provenance": []
    },
    "kernelspec": {
      "name": "python3",
      "display_name": "Python 3"
    },
    "language_info": {
      "name": "python"
    }
  },
  "cells": [
    {
      "cell_type": "code",
      "execution_count": 188,
      "metadata": {
        "id": "0qQ5R4N19-yU"
      },
      "outputs": [],
      "source": [
        "import pandas as pd\n",
        "import matplotlib.pyplot as plt\n",
        "import seaborn as sns\n",
        "from sklearn.model_selection import train_test_split\n",
        "from sklearn.preprocessing import MinMaxScaler\n",
        "from sklearn.tree import DecisionTreeRegressor\n",
        "from sklearn.metrics import mean_absolute_error, mean_squared_error, r2_score\n",
        "from sklearn.tree import DecisionTreeClassifier\n",
        "from sklearn.metrics import accuracy_score, classification_report, confusion_matrix"
      ]
    },
    {
      "cell_type": "markdown",
      "source": [
        "# **PROFIL DATA**"
      ],
      "metadata": {
        "id": "-2Ii1Xwnz-9F"
      }
    },
    {
      "cell_type": "code",
      "source": [
        "# 1. Load Dataset\n",
        "data_path = '/content/data.csv'\n",
        "df = pd.read_csv(data_path)\n",
        "df.head()"
      ],
      "metadata": {
        "colab": {
          "base_uri": "https://localhost:8080/",
          "height": 206
        },
        "id": "UP83CS9bAtxc",
        "outputId": "d339209b-89dc-4813-bea2-5e4c4e127a49"
      },
      "execution_count": 183,
      "outputs": [
        {
          "output_type": "execute_result",
          "data": {
            "text/plain": [
              "   Socioeconomic Score  Study Hours  Sleep Hours  Attendance (%)  Grades\n",
              "0              0.95822          3.4          8.2            53.0    47.0\n",
              "1              0.85566          3.2          5.9            55.0    35.0\n",
              "2              0.68025          3.2          9.3            41.0    32.0\n",
              "3              0.25936          3.2          8.2            47.0    34.0\n",
              "4              0.60447          3.8         10.0            75.0    33.0"
            ],
            "text/html": [
              "\n",
              "  <div id=\"df-53799d4d-1fc6-422d-8c21-b31a43de0dbf\" class=\"colab-df-container\">\n",
              "    <div>\n",
              "<style scoped>\n",
              "    .dataframe tbody tr th:only-of-type {\n",
              "        vertical-align: middle;\n",
              "    }\n",
              "\n",
              "    .dataframe tbody tr th {\n",
              "        vertical-align: top;\n",
              "    }\n",
              "\n",
              "    .dataframe thead th {\n",
              "        text-align: right;\n",
              "    }\n",
              "</style>\n",
              "<table border=\"1\" class=\"dataframe\">\n",
              "  <thead>\n",
              "    <tr style=\"text-align: right;\">\n",
              "      <th></th>\n",
              "      <th>Socioeconomic Score</th>\n",
              "      <th>Study Hours</th>\n",
              "      <th>Sleep Hours</th>\n",
              "      <th>Attendance (%)</th>\n",
              "      <th>Grades</th>\n",
              "    </tr>\n",
              "  </thead>\n",
              "  <tbody>\n",
              "    <tr>\n",
              "      <th>0</th>\n",
              "      <td>0.95822</td>\n",
              "      <td>3.4</td>\n",
              "      <td>8.2</td>\n",
              "      <td>53.0</td>\n",
              "      <td>47.0</td>\n",
              "    </tr>\n",
              "    <tr>\n",
              "      <th>1</th>\n",
              "      <td>0.85566</td>\n",
              "      <td>3.2</td>\n",
              "      <td>5.9</td>\n",
              "      <td>55.0</td>\n",
              "      <td>35.0</td>\n",
              "    </tr>\n",
              "    <tr>\n",
              "      <th>2</th>\n",
              "      <td>0.68025</td>\n",
              "      <td>3.2</td>\n",
              "      <td>9.3</td>\n",
              "      <td>41.0</td>\n",
              "      <td>32.0</td>\n",
              "    </tr>\n",
              "    <tr>\n",
              "      <th>3</th>\n",
              "      <td>0.25936</td>\n",
              "      <td>3.2</td>\n",
              "      <td>8.2</td>\n",
              "      <td>47.0</td>\n",
              "      <td>34.0</td>\n",
              "    </tr>\n",
              "    <tr>\n",
              "      <th>4</th>\n",
              "      <td>0.60447</td>\n",
              "      <td>3.8</td>\n",
              "      <td>10.0</td>\n",
              "      <td>75.0</td>\n",
              "      <td>33.0</td>\n",
              "    </tr>\n",
              "  </tbody>\n",
              "</table>\n",
              "</div>\n",
              "    <div class=\"colab-df-buttons\">\n",
              "\n",
              "  <div class=\"colab-df-container\">\n",
              "    <button class=\"colab-df-convert\" onclick=\"convertToInteractive('df-53799d4d-1fc6-422d-8c21-b31a43de0dbf')\"\n",
              "            title=\"Convert this dataframe to an interactive table.\"\n",
              "            style=\"display:none;\">\n",
              "\n",
              "  <svg xmlns=\"http://www.w3.org/2000/svg\" height=\"24px\" viewBox=\"0 -960 960 960\">\n",
              "    <path d=\"M120-120v-720h720v720H120Zm60-500h600v-160H180v160Zm220 220h160v-160H400v160Zm0 220h160v-160H400v160ZM180-400h160v-160H180v160Zm440 0h160v-160H620v160ZM180-180h160v-160H180v160Zm440 0h160v-160H620v160Z\"/>\n",
              "  </svg>\n",
              "    </button>\n",
              "\n",
              "  <style>\n",
              "    .colab-df-container {\n",
              "      display:flex;\n",
              "      gap: 12px;\n",
              "    }\n",
              "\n",
              "    .colab-df-convert {\n",
              "      background-color: #E8F0FE;\n",
              "      border: none;\n",
              "      border-radius: 50%;\n",
              "      cursor: pointer;\n",
              "      display: none;\n",
              "      fill: #1967D2;\n",
              "      height: 32px;\n",
              "      padding: 0 0 0 0;\n",
              "      width: 32px;\n",
              "    }\n",
              "\n",
              "    .colab-df-convert:hover {\n",
              "      background-color: #E2EBFA;\n",
              "      box-shadow: 0px 1px 2px rgba(60, 64, 67, 0.3), 0px 1px 3px 1px rgba(60, 64, 67, 0.15);\n",
              "      fill: #174EA6;\n",
              "    }\n",
              "\n",
              "    .colab-df-buttons div {\n",
              "      margin-bottom: 4px;\n",
              "    }\n",
              "\n",
              "    [theme=dark] .colab-df-convert {\n",
              "      background-color: #3B4455;\n",
              "      fill: #D2E3FC;\n",
              "    }\n",
              "\n",
              "    [theme=dark] .colab-df-convert:hover {\n",
              "      background-color: #434B5C;\n",
              "      box-shadow: 0px 1px 3px 1px rgba(0, 0, 0, 0.15);\n",
              "      filter: drop-shadow(0px 1px 2px rgba(0, 0, 0, 0.3));\n",
              "      fill: #FFFFFF;\n",
              "    }\n",
              "  </style>\n",
              "\n",
              "    <script>\n",
              "      const buttonEl =\n",
              "        document.querySelector('#df-53799d4d-1fc6-422d-8c21-b31a43de0dbf button.colab-df-convert');\n",
              "      buttonEl.style.display =\n",
              "        google.colab.kernel.accessAllowed ? 'block' : 'none';\n",
              "\n",
              "      async function convertToInteractive(key) {\n",
              "        const element = document.querySelector('#df-53799d4d-1fc6-422d-8c21-b31a43de0dbf');\n",
              "        const dataTable =\n",
              "          await google.colab.kernel.invokeFunction('convertToInteractive',\n",
              "                                                    [key], {});\n",
              "        if (!dataTable) return;\n",
              "\n",
              "        const docLinkHtml = 'Like what you see? Visit the ' +\n",
              "          '<a target=\"_blank\" href=https://colab.research.google.com/notebooks/data_table.ipynb>data table notebook</a>'\n",
              "          + ' to learn more about interactive tables.';\n",
              "        element.innerHTML = '';\n",
              "        dataTable['output_type'] = 'display_data';\n",
              "        await google.colab.output.renderOutput(dataTable, element);\n",
              "        const docLink = document.createElement('div');\n",
              "        docLink.innerHTML = docLinkHtml;\n",
              "        element.appendChild(docLink);\n",
              "      }\n",
              "    </script>\n",
              "  </div>\n",
              "\n",
              "\n",
              "<div id=\"df-59ab4886-8a34-4c31-b1e4-65e15e70abbb\">\n",
              "  <button class=\"colab-df-quickchart\" onclick=\"quickchart('df-59ab4886-8a34-4c31-b1e4-65e15e70abbb')\"\n",
              "            title=\"Suggest charts\"\n",
              "            style=\"display:none;\">\n",
              "\n",
              "<svg xmlns=\"http://www.w3.org/2000/svg\" height=\"24px\"viewBox=\"0 0 24 24\"\n",
              "     width=\"24px\">\n",
              "    <g>\n",
              "        <path d=\"M19 3H5c-1.1 0-2 .9-2 2v14c0 1.1.9 2 2 2h14c1.1 0 2-.9 2-2V5c0-1.1-.9-2-2-2zM9 17H7v-7h2v7zm4 0h-2V7h2v10zm4 0h-2v-4h2v4z\"/>\n",
              "    </g>\n",
              "</svg>\n",
              "  </button>\n",
              "\n",
              "<style>\n",
              "  .colab-df-quickchart {\n",
              "      --bg-color: #E8F0FE;\n",
              "      --fill-color: #1967D2;\n",
              "      --hover-bg-color: #E2EBFA;\n",
              "      --hover-fill-color: #174EA6;\n",
              "      --disabled-fill-color: #AAA;\n",
              "      --disabled-bg-color: #DDD;\n",
              "  }\n",
              "\n",
              "  [theme=dark] .colab-df-quickchart {\n",
              "      --bg-color: #3B4455;\n",
              "      --fill-color: #D2E3FC;\n",
              "      --hover-bg-color: #434B5C;\n",
              "      --hover-fill-color: #FFFFFF;\n",
              "      --disabled-bg-color: #3B4455;\n",
              "      --disabled-fill-color: #666;\n",
              "  }\n",
              "\n",
              "  .colab-df-quickchart {\n",
              "    background-color: var(--bg-color);\n",
              "    border: none;\n",
              "    border-radius: 50%;\n",
              "    cursor: pointer;\n",
              "    display: none;\n",
              "    fill: var(--fill-color);\n",
              "    height: 32px;\n",
              "    padding: 0;\n",
              "    width: 32px;\n",
              "  }\n",
              "\n",
              "  .colab-df-quickchart:hover {\n",
              "    background-color: var(--hover-bg-color);\n",
              "    box-shadow: 0 1px 2px rgba(60, 64, 67, 0.3), 0 1px 3px 1px rgba(60, 64, 67, 0.15);\n",
              "    fill: var(--button-hover-fill-color);\n",
              "  }\n",
              "\n",
              "  .colab-df-quickchart-complete:disabled,\n",
              "  .colab-df-quickchart-complete:disabled:hover {\n",
              "    background-color: var(--disabled-bg-color);\n",
              "    fill: var(--disabled-fill-color);\n",
              "    box-shadow: none;\n",
              "  }\n",
              "\n",
              "  .colab-df-spinner {\n",
              "    border: 2px solid var(--fill-color);\n",
              "    border-color: transparent;\n",
              "    border-bottom-color: var(--fill-color);\n",
              "    animation:\n",
              "      spin 1s steps(1) infinite;\n",
              "  }\n",
              "\n",
              "  @keyframes spin {\n",
              "    0% {\n",
              "      border-color: transparent;\n",
              "      border-bottom-color: var(--fill-color);\n",
              "      border-left-color: var(--fill-color);\n",
              "    }\n",
              "    20% {\n",
              "      border-color: transparent;\n",
              "      border-left-color: var(--fill-color);\n",
              "      border-top-color: var(--fill-color);\n",
              "    }\n",
              "    30% {\n",
              "      border-color: transparent;\n",
              "      border-left-color: var(--fill-color);\n",
              "      border-top-color: var(--fill-color);\n",
              "      border-right-color: var(--fill-color);\n",
              "    }\n",
              "    40% {\n",
              "      border-color: transparent;\n",
              "      border-right-color: var(--fill-color);\n",
              "      border-top-color: var(--fill-color);\n",
              "    }\n",
              "    60% {\n",
              "      border-color: transparent;\n",
              "      border-right-color: var(--fill-color);\n",
              "    }\n",
              "    80% {\n",
              "      border-color: transparent;\n",
              "      border-right-color: var(--fill-color);\n",
              "      border-bottom-color: var(--fill-color);\n",
              "    }\n",
              "    90% {\n",
              "      border-color: transparent;\n",
              "      border-bottom-color: var(--fill-color);\n",
              "    }\n",
              "  }\n",
              "</style>\n",
              "\n",
              "  <script>\n",
              "    async function quickchart(key) {\n",
              "      const quickchartButtonEl =\n",
              "        document.querySelector('#' + key + ' button');\n",
              "      quickchartButtonEl.disabled = true;  // To prevent multiple clicks.\n",
              "      quickchartButtonEl.classList.add('colab-df-spinner');\n",
              "      try {\n",
              "        const charts = await google.colab.kernel.invokeFunction(\n",
              "            'suggestCharts', [key], {});\n",
              "      } catch (error) {\n",
              "        console.error('Error during call to suggestCharts:', error);\n",
              "      }\n",
              "      quickchartButtonEl.classList.remove('colab-df-spinner');\n",
              "      quickchartButtonEl.classList.add('colab-df-quickchart-complete');\n",
              "    }\n",
              "    (() => {\n",
              "      let quickchartButtonEl =\n",
              "        document.querySelector('#df-59ab4886-8a34-4c31-b1e4-65e15e70abbb button');\n",
              "      quickchartButtonEl.style.display =\n",
              "        google.colab.kernel.accessAllowed ? 'block' : 'none';\n",
              "    })();\n",
              "  </script>\n",
              "</div>\n",
              "\n",
              "    </div>\n",
              "  </div>\n"
            ],
            "application/vnd.google.colaboratory.intrinsic+json": {
              "type": "dataframe",
              "variable_name": "df",
              "summary": "{\n  \"name\": \"df\",\n  \"rows\": 1388,\n  \"fields\": [\n    {\n      \"column\": \"Socioeconomic Score\",\n      \"properties\": {\n        \"dtype\": \"number\",\n        \"std\": 0.2612721485346457,\n        \"min\": 0.10128,\n        \"max\": 0.99982,\n        \"num_unique_values\": 1376,\n        \"samples\": [\n          0.27348,\n          0.95774,\n          0.83541\n        ],\n        \"semantic_type\": \"\",\n        \"description\": \"\"\n      }\n    },\n    {\n      \"column\": \"Study Hours\",\n      \"properties\": {\n        \"dtype\": \"number\",\n        \"std\": 1.8975808787091735,\n        \"min\": 0.8,\n        \"max\": 10.0,\n        \"num_unique_values\": 93,\n        \"samples\": [\n          8.0,\n          3.0,\n          4.8\n        ],\n        \"semantic_type\": \"\",\n        \"description\": \"\"\n      }\n    },\n    {\n      \"column\": \"Sleep Hours\",\n      \"properties\": {\n        \"dtype\": \"number\",\n        \"std\": 1.3706995662943444,\n        \"min\": 4.8,\n        \"max\": 10.0,\n        \"num_unique_values\": 53,\n        \"samples\": [\n          6.0,\n          6.7,\n          5.2\n        ],\n        \"semantic_type\": \"\",\n        \"description\": \"\"\n      }\n    },\n    {\n      \"column\": \"Attendance (%)\",\n      \"properties\": {\n        \"dtype\": \"number\",\n        \"std\": 11.675287060112149,\n        \"min\": 40.0,\n        \"max\": 100.0,\n        \"num_unique_values\": 60,\n        \"samples\": [\n          53.0,\n          63.0,\n          44.0\n        ],\n        \"semantic_type\": \"\",\n        \"description\": \"\"\n      }\n    },\n    {\n      \"column\": \"Grades\",\n      \"properties\": {\n        \"dtype\": \"number\",\n        \"std\": 9.467358374375864,\n        \"min\": 32.0,\n        \"max\": 91.0,\n        \"num_unique_values\": 48,\n        \"samples\": [\n          40.0,\n          91.0,\n          53.0\n        ],\n        \"semantic_type\": \"\",\n        \"description\": \"\"\n      }\n    }\n  ]\n}"
            }
          },
          "metadata": {},
          "execution_count": 183
        }
      ]
    },
    {
      "cell_type": "markdown",
      "source": [
        "### Interpretasi Kolom:\n",
        "\n",
        "1.\tSocioeconomic Score : Nilai indeks sosial ekonomi individu, yang menunjukkan tingkat status sosial ekonomi. Nilai berkisar antara 0 hingga 1, dengan nilai lebih tinggi menunjukkan status yang lebih baik.\n",
        "2.\tStudy Hours : Jumlah rata-rata jam belajar individu setiap hari.\n",
        "3.\tSleep Hours :  Jumlah rata-rata jam tidur individu setiap hari.\n",
        "4.\tAttendance (%) : Persentase kehadiran individu dalam kegiatan akademik (seperti kelas atau pelatihan).\n",
        "5.\tGrades : Nilai akademik individu yang mencerminkan performa belajar.\n"
      ],
      "metadata": {
        "id": "hBTX8zG7Ca-y"
      }
    },
    {
      "cell_type": "code",
      "source": [
        "# Display initial rows and dataset info\n",
        "print(\"Initial Dataset Head:\")\n",
        "print(df.head())\n",
        "print(\"\\nDataset Info:\")\n",
        "print(df.info())"
      ],
      "metadata": {
        "colab": {
          "base_uri": "https://localhost:8080/"
        },
        "id": "fXB3POPKA2ap",
        "outputId": "7b6cdaab-a969-4bea-8fbd-37da67f11857"
      },
      "execution_count": 149,
      "outputs": [
        {
          "output_type": "stream",
          "name": "stdout",
          "text": [
            "Initial Dataset Head:\n",
            "   Socioeconomic Score  Study Hours  Sleep Hours  Attendance (%)  Grades\n",
            "0              0.95822          3.4          8.2            53.0    47.0\n",
            "1              0.85566          3.2          5.9            55.0    35.0\n",
            "2              0.68025          3.2          9.3            41.0    32.0\n",
            "3              0.25936          3.2          8.2            47.0    34.0\n",
            "4              0.60447          3.8         10.0            75.0    33.0\n",
            "\n",
            "Dataset Info:\n",
            "<class 'pandas.core.frame.DataFrame'>\n",
            "RangeIndex: 1388 entries, 0 to 1387\n",
            "Data columns (total 5 columns):\n",
            " #   Column               Non-Null Count  Dtype  \n",
            "---  ------               --------------  -----  \n",
            " 0   Socioeconomic Score  1388 non-null   float64\n",
            " 1   Study Hours          1388 non-null   float64\n",
            " 2   Sleep Hours          1388 non-null   float64\n",
            " 3   Attendance (%)       1388 non-null   float64\n",
            " 4   Grades               1388 non-null   float64\n",
            "dtypes: float64(5)\n",
            "memory usage: 54.3 KB\n",
            "None\n"
          ]
        }
      ]
    },
    {
      "cell_type": "code",
      "source": [
        "df.columns"
      ],
      "metadata": {
        "colab": {
          "base_uri": "https://localhost:8080/"
        },
        "id": "EYTkklGJGcbs",
        "outputId": "4bdf5aa9-7fa1-42a6-ec7d-851124d8dcd9"
      },
      "execution_count": 150,
      "outputs": [
        {
          "output_type": "execute_result",
          "data": {
            "text/plain": [
              "Index(['Socioeconomic Score', 'Study Hours', 'Sleep Hours', 'Attendance (%)',\n",
              "       'Grades'],\n",
              "      dtype='object')"
            ]
          },
          "metadata": {},
          "execution_count": 150
        }
      ]
    },
    {
      "cell_type": "code",
      "source": [
        "df.shape"
      ],
      "metadata": {
        "colab": {
          "base_uri": "https://localhost:8080/"
        },
        "id": "u3X2zvEmHOkK",
        "outputId": "283e6647-d024-43d0-8fe8-165bc8165be3"
      },
      "execution_count": 151,
      "outputs": [
        {
          "output_type": "execute_result",
          "data": {
            "text/plain": [
              "(1388, 5)"
            ]
          },
          "metadata": {},
          "execution_count": 151
        }
      ]
    },
    {
      "cell_type": "code",
      "source": [
        "# Ringkasan Data\n",
        "df.describe()"
      ],
      "metadata": {
        "colab": {
          "base_uri": "https://localhost:8080/",
          "height": 300
        },
        "id": "VeKj2dzeHKKL",
        "outputId": "90c31b6b-6373-414d-c690-0eeeeed47f5c"
      },
      "execution_count": 152,
      "outputs": [
        {
          "output_type": "execute_result",
          "data": {
            "text/plain": [
              "       Socioeconomic Score  Study Hours  Sleep Hours  Attendance (%)  \\\n",
              "count          1388.000000  1388.000000  1388.000000     1388.000000   \n",
              "mean              0.552274     4.560807     8.047262       58.536023   \n",
              "std               0.261272     1.897581     1.370700       11.675287   \n",
              "min               0.101280     0.800000     4.800000       40.000000   \n",
              "25%               0.322118     3.475000     7.000000       49.000000   \n",
              "50%               0.545945     3.900000     8.400000       57.000000   \n",
              "75%               0.789610     5.900000     9.100000       66.000000   \n",
              "max               0.999820    10.000000    10.000000      100.000000   \n",
              "\n",
              "            Grades  \n",
              "count  1388.000000  \n",
              "mean     40.691643  \n",
              "std       9.467358  \n",
              "min      32.000000  \n",
              "25%      34.000000  \n",
              "50%      35.000000  \n",
              "75%      47.000000  \n",
              "max      91.000000  "
            ],
            "text/html": [
              "\n",
              "  <div id=\"df-91e76c62-ef7f-4fa4-8805-a479195f4eeb\" class=\"colab-df-container\">\n",
              "    <div>\n",
              "<style scoped>\n",
              "    .dataframe tbody tr th:only-of-type {\n",
              "        vertical-align: middle;\n",
              "    }\n",
              "\n",
              "    .dataframe tbody tr th {\n",
              "        vertical-align: top;\n",
              "    }\n",
              "\n",
              "    .dataframe thead th {\n",
              "        text-align: right;\n",
              "    }\n",
              "</style>\n",
              "<table border=\"1\" class=\"dataframe\">\n",
              "  <thead>\n",
              "    <tr style=\"text-align: right;\">\n",
              "      <th></th>\n",
              "      <th>Socioeconomic Score</th>\n",
              "      <th>Study Hours</th>\n",
              "      <th>Sleep Hours</th>\n",
              "      <th>Attendance (%)</th>\n",
              "      <th>Grades</th>\n",
              "    </tr>\n",
              "  </thead>\n",
              "  <tbody>\n",
              "    <tr>\n",
              "      <th>count</th>\n",
              "      <td>1388.000000</td>\n",
              "      <td>1388.000000</td>\n",
              "      <td>1388.000000</td>\n",
              "      <td>1388.000000</td>\n",
              "      <td>1388.000000</td>\n",
              "    </tr>\n",
              "    <tr>\n",
              "      <th>mean</th>\n",
              "      <td>0.552274</td>\n",
              "      <td>4.560807</td>\n",
              "      <td>8.047262</td>\n",
              "      <td>58.536023</td>\n",
              "      <td>40.691643</td>\n",
              "    </tr>\n",
              "    <tr>\n",
              "      <th>std</th>\n",
              "      <td>0.261272</td>\n",
              "      <td>1.897581</td>\n",
              "      <td>1.370700</td>\n",
              "      <td>11.675287</td>\n",
              "      <td>9.467358</td>\n",
              "    </tr>\n",
              "    <tr>\n",
              "      <th>min</th>\n",
              "      <td>0.101280</td>\n",
              "      <td>0.800000</td>\n",
              "      <td>4.800000</td>\n",
              "      <td>40.000000</td>\n",
              "      <td>32.000000</td>\n",
              "    </tr>\n",
              "    <tr>\n",
              "      <th>25%</th>\n",
              "      <td>0.322118</td>\n",
              "      <td>3.475000</td>\n",
              "      <td>7.000000</td>\n",
              "      <td>49.000000</td>\n",
              "      <td>34.000000</td>\n",
              "    </tr>\n",
              "    <tr>\n",
              "      <th>50%</th>\n",
              "      <td>0.545945</td>\n",
              "      <td>3.900000</td>\n",
              "      <td>8.400000</td>\n",
              "      <td>57.000000</td>\n",
              "      <td>35.000000</td>\n",
              "    </tr>\n",
              "    <tr>\n",
              "      <th>75%</th>\n",
              "      <td>0.789610</td>\n",
              "      <td>5.900000</td>\n",
              "      <td>9.100000</td>\n",
              "      <td>66.000000</td>\n",
              "      <td>47.000000</td>\n",
              "    </tr>\n",
              "    <tr>\n",
              "      <th>max</th>\n",
              "      <td>0.999820</td>\n",
              "      <td>10.000000</td>\n",
              "      <td>10.000000</td>\n",
              "      <td>100.000000</td>\n",
              "      <td>91.000000</td>\n",
              "    </tr>\n",
              "  </tbody>\n",
              "</table>\n",
              "</div>\n",
              "    <div class=\"colab-df-buttons\">\n",
              "\n",
              "  <div class=\"colab-df-container\">\n",
              "    <button class=\"colab-df-convert\" onclick=\"convertToInteractive('df-91e76c62-ef7f-4fa4-8805-a479195f4eeb')\"\n",
              "            title=\"Convert this dataframe to an interactive table.\"\n",
              "            style=\"display:none;\">\n",
              "\n",
              "  <svg xmlns=\"http://www.w3.org/2000/svg\" height=\"24px\" viewBox=\"0 -960 960 960\">\n",
              "    <path d=\"M120-120v-720h720v720H120Zm60-500h600v-160H180v160Zm220 220h160v-160H400v160Zm0 220h160v-160H400v160ZM180-400h160v-160H180v160Zm440 0h160v-160H620v160ZM180-180h160v-160H180v160Zm440 0h160v-160H620v160Z\"/>\n",
              "  </svg>\n",
              "    </button>\n",
              "\n",
              "  <style>\n",
              "    .colab-df-container {\n",
              "      display:flex;\n",
              "      gap: 12px;\n",
              "    }\n",
              "\n",
              "    .colab-df-convert {\n",
              "      background-color: #E8F0FE;\n",
              "      border: none;\n",
              "      border-radius: 50%;\n",
              "      cursor: pointer;\n",
              "      display: none;\n",
              "      fill: #1967D2;\n",
              "      height: 32px;\n",
              "      padding: 0 0 0 0;\n",
              "      width: 32px;\n",
              "    }\n",
              "\n",
              "    .colab-df-convert:hover {\n",
              "      background-color: #E2EBFA;\n",
              "      box-shadow: 0px 1px 2px rgba(60, 64, 67, 0.3), 0px 1px 3px 1px rgba(60, 64, 67, 0.15);\n",
              "      fill: #174EA6;\n",
              "    }\n",
              "\n",
              "    .colab-df-buttons div {\n",
              "      margin-bottom: 4px;\n",
              "    }\n",
              "\n",
              "    [theme=dark] .colab-df-convert {\n",
              "      background-color: #3B4455;\n",
              "      fill: #D2E3FC;\n",
              "    }\n",
              "\n",
              "    [theme=dark] .colab-df-convert:hover {\n",
              "      background-color: #434B5C;\n",
              "      box-shadow: 0px 1px 3px 1px rgba(0, 0, 0, 0.15);\n",
              "      filter: drop-shadow(0px 1px 2px rgba(0, 0, 0, 0.3));\n",
              "      fill: #FFFFFF;\n",
              "    }\n",
              "  </style>\n",
              "\n",
              "    <script>\n",
              "      const buttonEl =\n",
              "        document.querySelector('#df-91e76c62-ef7f-4fa4-8805-a479195f4eeb button.colab-df-convert');\n",
              "      buttonEl.style.display =\n",
              "        google.colab.kernel.accessAllowed ? 'block' : 'none';\n",
              "\n",
              "      async function convertToInteractive(key) {\n",
              "        const element = document.querySelector('#df-91e76c62-ef7f-4fa4-8805-a479195f4eeb');\n",
              "        const dataTable =\n",
              "          await google.colab.kernel.invokeFunction('convertToInteractive',\n",
              "                                                    [key], {});\n",
              "        if (!dataTable) return;\n",
              "\n",
              "        const docLinkHtml = 'Like what you see? Visit the ' +\n",
              "          '<a target=\"_blank\" href=https://colab.research.google.com/notebooks/data_table.ipynb>data table notebook</a>'\n",
              "          + ' to learn more about interactive tables.';\n",
              "        element.innerHTML = '';\n",
              "        dataTable['output_type'] = 'display_data';\n",
              "        await google.colab.output.renderOutput(dataTable, element);\n",
              "        const docLink = document.createElement('div');\n",
              "        docLink.innerHTML = docLinkHtml;\n",
              "        element.appendChild(docLink);\n",
              "      }\n",
              "    </script>\n",
              "  </div>\n",
              "\n",
              "\n",
              "<div id=\"df-748c2f95-95ef-4113-b7f7-def8eb6105bd\">\n",
              "  <button class=\"colab-df-quickchart\" onclick=\"quickchart('df-748c2f95-95ef-4113-b7f7-def8eb6105bd')\"\n",
              "            title=\"Suggest charts\"\n",
              "            style=\"display:none;\">\n",
              "\n",
              "<svg xmlns=\"http://www.w3.org/2000/svg\" height=\"24px\"viewBox=\"0 0 24 24\"\n",
              "     width=\"24px\">\n",
              "    <g>\n",
              "        <path d=\"M19 3H5c-1.1 0-2 .9-2 2v14c0 1.1.9 2 2 2h14c1.1 0 2-.9 2-2V5c0-1.1-.9-2-2-2zM9 17H7v-7h2v7zm4 0h-2V7h2v10zm4 0h-2v-4h2v4z\"/>\n",
              "    </g>\n",
              "</svg>\n",
              "  </button>\n",
              "\n",
              "<style>\n",
              "  .colab-df-quickchart {\n",
              "      --bg-color: #E8F0FE;\n",
              "      --fill-color: #1967D2;\n",
              "      --hover-bg-color: #E2EBFA;\n",
              "      --hover-fill-color: #174EA6;\n",
              "      --disabled-fill-color: #AAA;\n",
              "      --disabled-bg-color: #DDD;\n",
              "  }\n",
              "\n",
              "  [theme=dark] .colab-df-quickchart {\n",
              "      --bg-color: #3B4455;\n",
              "      --fill-color: #D2E3FC;\n",
              "      --hover-bg-color: #434B5C;\n",
              "      --hover-fill-color: #FFFFFF;\n",
              "      --disabled-bg-color: #3B4455;\n",
              "      --disabled-fill-color: #666;\n",
              "  }\n",
              "\n",
              "  .colab-df-quickchart {\n",
              "    background-color: var(--bg-color);\n",
              "    border: none;\n",
              "    border-radius: 50%;\n",
              "    cursor: pointer;\n",
              "    display: none;\n",
              "    fill: var(--fill-color);\n",
              "    height: 32px;\n",
              "    padding: 0;\n",
              "    width: 32px;\n",
              "  }\n",
              "\n",
              "  .colab-df-quickchart:hover {\n",
              "    background-color: var(--hover-bg-color);\n",
              "    box-shadow: 0 1px 2px rgba(60, 64, 67, 0.3), 0 1px 3px 1px rgba(60, 64, 67, 0.15);\n",
              "    fill: var(--button-hover-fill-color);\n",
              "  }\n",
              "\n",
              "  .colab-df-quickchart-complete:disabled,\n",
              "  .colab-df-quickchart-complete:disabled:hover {\n",
              "    background-color: var(--disabled-bg-color);\n",
              "    fill: var(--disabled-fill-color);\n",
              "    box-shadow: none;\n",
              "  }\n",
              "\n",
              "  .colab-df-spinner {\n",
              "    border: 2px solid var(--fill-color);\n",
              "    border-color: transparent;\n",
              "    border-bottom-color: var(--fill-color);\n",
              "    animation:\n",
              "      spin 1s steps(1) infinite;\n",
              "  }\n",
              "\n",
              "  @keyframes spin {\n",
              "    0% {\n",
              "      border-color: transparent;\n",
              "      border-bottom-color: var(--fill-color);\n",
              "      border-left-color: var(--fill-color);\n",
              "    }\n",
              "    20% {\n",
              "      border-color: transparent;\n",
              "      border-left-color: var(--fill-color);\n",
              "      border-top-color: var(--fill-color);\n",
              "    }\n",
              "    30% {\n",
              "      border-color: transparent;\n",
              "      border-left-color: var(--fill-color);\n",
              "      border-top-color: var(--fill-color);\n",
              "      border-right-color: var(--fill-color);\n",
              "    }\n",
              "    40% {\n",
              "      border-color: transparent;\n",
              "      border-right-color: var(--fill-color);\n",
              "      border-top-color: var(--fill-color);\n",
              "    }\n",
              "    60% {\n",
              "      border-color: transparent;\n",
              "      border-right-color: var(--fill-color);\n",
              "    }\n",
              "    80% {\n",
              "      border-color: transparent;\n",
              "      border-right-color: var(--fill-color);\n",
              "      border-bottom-color: var(--fill-color);\n",
              "    }\n",
              "    90% {\n",
              "      border-color: transparent;\n",
              "      border-bottom-color: var(--fill-color);\n",
              "    }\n",
              "  }\n",
              "</style>\n",
              "\n",
              "  <script>\n",
              "    async function quickchart(key) {\n",
              "      const quickchartButtonEl =\n",
              "        document.querySelector('#' + key + ' button');\n",
              "      quickchartButtonEl.disabled = true;  // To prevent multiple clicks.\n",
              "      quickchartButtonEl.classList.add('colab-df-spinner');\n",
              "      try {\n",
              "        const charts = await google.colab.kernel.invokeFunction(\n",
              "            'suggestCharts', [key], {});\n",
              "      } catch (error) {\n",
              "        console.error('Error during call to suggestCharts:', error);\n",
              "      }\n",
              "      quickchartButtonEl.classList.remove('colab-df-spinner');\n",
              "      quickchartButtonEl.classList.add('colab-df-quickchart-complete');\n",
              "    }\n",
              "    (() => {\n",
              "      let quickchartButtonEl =\n",
              "        document.querySelector('#df-748c2f95-95ef-4113-b7f7-def8eb6105bd button');\n",
              "      quickchartButtonEl.style.display =\n",
              "        google.colab.kernel.accessAllowed ? 'block' : 'none';\n",
              "    })();\n",
              "  </script>\n",
              "</div>\n",
              "\n",
              "    </div>\n",
              "  </div>\n"
            ],
            "application/vnd.google.colaboratory.intrinsic+json": {
              "type": "dataframe",
              "summary": "{\n  \"name\": \"df\",\n  \"rows\": 8,\n  \"fields\": [\n    {\n      \"column\": \"Socioeconomic Score\",\n      \"properties\": {\n        \"dtype\": \"number\",\n        \"std\": 490.5517620327277,\n        \"min\": 0.10128,\n        \"max\": 1388.0,\n        \"num_unique_values\": 8,\n        \"samples\": [\n          0.5522742291066283,\n          0.5459449999999999,\n          1388.0\n        ],\n        \"semantic_type\": \"\",\n        \"description\": \"\"\n      }\n    },\n    {\n      \"column\": \"Study Hours\",\n      \"properties\": {\n        \"dtype\": \"number\",\n        \"std\": 489.19781506662616,\n        \"min\": 0.8,\n        \"max\": 1388.0,\n        \"num_unique_values\": 8,\n        \"samples\": [\n          4.560806916426513,\n          3.9,\n          1388.0\n        ],\n        \"semantic_type\": \"\",\n        \"description\": \"\"\n      }\n    },\n    {\n      \"column\": \"Sleep Hours\",\n      \"properties\": {\n        \"dtype\": \"number\",\n        \"std\": 488.2792284459005,\n        \"min\": 1.3706995662943444,\n        \"max\": 1388.0,\n        \"num_unique_values\": 8,\n        \"samples\": [\n          8.047262247838617,\n          8.4,\n          1388.0\n        ],\n        \"semantic_type\": \"\",\n        \"description\": \"\"\n      }\n    },\n    {\n      \"column\": \"Attendance (%)\",\n      \"properties\": {\n        \"dtype\": \"number\",\n        \"std\": 472.07849952791275,\n        \"min\": 11.675287060112149,\n        \"max\": 1388.0,\n        \"num_unique_values\": 8,\n        \"samples\": [\n          58.53602305475504,\n          57.0,\n          1388.0\n        ],\n        \"semantic_type\": \"\",\n        \"description\": \"\"\n      }\n    },\n    {\n      \"column\": \"Grades\",\n      \"properties\": {\n        \"dtype\": \"number\",\n        \"std\": 476.6814826509372,\n        \"min\": 9.467358374375864,\n        \"max\": 1388.0,\n        \"num_unique_values\": 8,\n        \"samples\": [\n          40.69164265129683,\n          35.0,\n          1388.0\n        ],\n        \"semantic_type\": \"\",\n        \"description\": \"\"\n      }\n    }\n  ]\n}"
            }
          },
          "metadata": {},
          "execution_count": 152
        }
      ]
    },
    {
      "cell_type": "markdown",
      "source": [
        "# **DATA PREPROCESSING**"
      ],
      "metadata": {
        "id": "_2xw69umnwOA"
      }
    },
    {
      "cell_type": "code",
      "source": [
        "# 1. Memeriksa Nilai Kosong (Missing Values)\n",
        "print(\"Jumlah nilai kosong pada setiap kolom:\")\n",
        "print(df.isnull().sum())"
      ],
      "metadata": {
        "id": "n-IsiS5aoZUk",
        "colab": {
          "base_uri": "https://localhost:8080/"
        },
        "outputId": "034cd579-07aa-4b6e-8c0c-f1d5783ca885"
      },
      "execution_count": 153,
      "outputs": [
        {
          "output_type": "stream",
          "name": "stdout",
          "text": [
            "Jumlah nilai kosong pada setiap kolom:\n",
            "Socioeconomic Score    0\n",
            "Study Hours            0\n",
            "Sleep Hours            0\n",
            "Attendance (%)         0\n",
            "Grades                 0\n",
            "dtype: int64\n"
          ]
        }
      ]
    },
    {
      "cell_type": "code",
      "source": [
        "# 2. Memeriksa Outlier pada Data Numerik\n",
        "# Menggunakan metode IQR untuk mendeteksi outlier\n",
        "Q1 = df.quantile(0.25)\n",
        "Q3 = df.quantile(0.75)\n",
        "IQR = Q3 - Q1\n",
        "outliers = ((df < (Q1 - 1.5 * IQR)) | (df > (Q3 + 1.5 * IQR))).sum()\n",
        "print(\"\\nJumlah outlier pada setiap kolom:\")\n",
        "print(outliers)"
      ],
      "metadata": {
        "colab": {
          "base_uri": "https://localhost:8080/"
        },
        "id": "Z64ykuySdfRa",
        "outputId": "954394a8-ca26-457f-9857-b53f0440c6ac"
      },
      "execution_count": 154,
      "outputs": [
        {
          "output_type": "stream",
          "name": "stdout",
          "text": [
            "\n",
            "Jumlah outlier pada setiap kolom:\n",
            "Socioeconomic Score     0\n",
            "Study Hours            11\n",
            "Sleep Hours             0\n",
            "Attendance (%)         16\n",
            "Grades                 23\n",
            "dtype: int64\n"
          ]
        }
      ]
    },
    {
      "cell_type": "code",
      "source": [
        "# 3. Normalisasi Data\n",
        "scaler = MinMaxScaler()\n",
        "columns_to_normalize = ['Socioeconomic Score', 'Study Hours', 'Sleep Hours', 'Attendance (%)', 'Grades']\n",
        "df[columns_to_normalize] = scaler.fit_transform(df[columns_to_normalize])\n",
        "\n",
        "print(\"\\nData setelah normalisasi:\")\n",
        "print(df.head())"
      ],
      "metadata": {
        "colab": {
          "base_uri": "https://localhost:8080/"
        },
        "id": "Vn_aCW_OdyqS",
        "outputId": "6513259d-4e4d-45f5-8801-2b693264f2f7"
      },
      "execution_count": 155,
      "outputs": [
        {
          "output_type": "stream",
          "name": "stdout",
          "text": [
            "\n",
            "Data setelah normalisasi:\n",
            "   Socioeconomic Score  Study Hours  Sleep Hours  Attendance (%)    Grades\n",
            "0             0.953703     0.282609     0.653846        0.216667  0.254237\n",
            "1             0.839562     0.260870     0.211538        0.250000  0.050847\n",
            "2             0.644345     0.260870     0.865385        0.016667  0.000000\n",
            "3             0.175930     0.260870     0.653846        0.116667  0.033898\n",
            "4             0.560008     0.326087     1.000000        0.583333  0.016949\n"
          ]
        }
      ]
    },
    {
      "cell_type": "code",
      "source": [
        "# 4. Membagi Dataset menjadi Data Training dan Testing\n",
        "X = df[['Socioeconomic Score', 'Study Hours', 'Sleep Hours', 'Attendance (%)']]\n",
        "y = df['Grades']  # Target variable\n",
        "\n",
        "X_train, X_test, y_train, y_test = train_test_split(X, y, test_size=0.2, random_state=42, stratify=None)\n",
        "\n",
        "print(\"\\nJumlah data training dan testing:\")\n",
        "print(f\"Data Training: {X_train.shape[0]} baris\")\n",
        "print(f\"Data Testing: {X_test.shape[0]} baris\")"
      ],
      "metadata": {
        "colab": {
          "base_uri": "https://localhost:8080/"
        },
        "id": "JWEp6ryaebKt",
        "outputId": "73a9bfaa-69aa-4cb9-b7f9-707cc083084c"
      },
      "execution_count": 156,
      "outputs": [
        {
          "output_type": "stream",
          "name": "stdout",
          "text": [
            "\n",
            "Jumlah data training dan testing:\n",
            "Data Training: 1110 baris\n",
            "Data Testing: 278 baris\n"
          ]
        }
      ]
    },
    {
      "cell_type": "markdown",
      "source": [
        "# **EXPLORATORY DATA ANALYSIS**"
      ],
      "metadata": {
        "id": "y4khn6CjerdY"
      }
    },
    {
      "cell_type": "code",
      "source": [
        "# Distribusi Socioeconomic Score\n",
        "plt.figure(figsize=(8, 5))\n",
        "sns.histplot(df['Socioeconomic Score'], kde=True, bins=20, color='skyblue')\n",
        "plt.title('Distribusi Socioeconomic Score')\n",
        "plt.xlabel('Socioeconomic Score')\n",
        "plt.ylabel('Frekuensi')\n",
        "plt.show()"
      ],
      "metadata": {
        "colab": {
          "base_uri": "https://localhost:8080/",
          "height": 487
        },
        "id": "VIRS7wowew9m",
        "outputId": "973869d3-2be4-4dc9-c76a-f602c138a356"
      },
      "execution_count": 173,
      "outputs": [
        {
          "output_type": "display_data",
          "data": {
            "text/plain": [
              "<Figure size 800x500 with 1 Axes>"
            ],
            "image/png": "[encoded data removed]"
          },
          "metadata": {}
        }
      ]
    },
    {
      "cell_type": "code",
      "source": [
        "# Visualisasi distribusi Study Hours\n",
        "plt.figure(figsize=(10, 5))\n",
        "sns.histplot(df['Study Hours'], bins=20, kde=True)\n",
        "plt.title('Distribusi Study Hours')\n",
        "plt.xlabel('Study Hours')\n",
        "plt.ylabel('Frekuensi')\n",
        "plt.show()"
      ],
      "metadata": {
        "colab": {
          "base_uri": "https://localhost:8080/",
          "height": 487
        },
        "id": "B0oZVMvRe_vM",
        "outputId": "dfd63a80-813d-49e8-b535-69328f6a3036"
      },
      "execution_count": 174,
      "outputs": [
        {
          "output_type": "display_data",
          "data": {
            "text/plain": [
              "<Figure size 1000x500 with 1 Axes>"
            ],
            "image/png": "[encoded data removed]"
          },
          "metadata": {}
        }
      ]
    },
    {
      "cell_type": "code",
      "source": [
        "# Korelasi antar variabel\n",
        "if 'Grade_Category' in df.columns:\n",
        "    correlation_matrix = df.drop(columns=['Grade_Category']).corr()\n",
        "else:\n",
        "    correlation_matrix = df.corr()  # Calculate correlation without dropping\n",
        "\n",
        "plt.figure(figsize=(10, 8))\n",
        "sns.heatmap(correlation_matrix, annot=True, cmap='coolwarm', fmt=\".2f\")\n",
        "plt.title('Korelasi Antar Variabel')\n",
        "plt.show()"
      ],
      "metadata": {
        "colab": {
          "base_uri": "https://localhost:8080/",
          "height": 699
        },
        "id": "PIefgxtrfEbD",
        "outputId": "18c254ca-9255-4e99-990f-d248208db83d"
      },
      "execution_count": 191,
      "outputs": [
        {
          "output_type": "display_data",
          "data": {
            "text/plain": [
              "<Figure size 1000x800 with 2 Axes>"
            ],
            "image/png": "[encoded data removed]"
          },
          "metadata": {}
        }
      ]
    },
    {
      "cell_type": "markdown",
      "source": [
        "# **SELEKSI FITUR**"
      ],
      "metadata": {
        "id": "6IDMnNWXiCef"
      }
    },
    {
      "cell_type": "code",
      "source": [
        "from sklearn.model_selection import train_test_split\n",
        "\n",
        "# Memisahkan data menjadi fitur (X) dan target (y)\n",
        "X = df[['Socioeconomic Score', 'Study Hours', 'Sleep Hours', 'Attendance (%)']]\n",
        "y = df['Grades']  # Menggunakan Grades secara langsung sebagai target\n",
        "\n",
        "# Pembagian dataset\n",
        "X_train, X_test, y_train, y_test = train_test_split(X, y, test_size=0.2, random_state=42)\n",
        "\n",
        "# Menampilkan informasi tentang fitur yang digunakan\n",
        "print(\"Fitur yang digunakan untuk modeling:\")\n",
        "print(X.columns)"
      ],
      "metadata": {
        "colab": {
          "base_uri": "https://localhost:8080/"
        },
        "id": "9AUgkZt9vimp",
        "outputId": "cf5b8532-678f-471b-bfe9-d34b7adfd99e"
      },
      "execution_count": 192,
      "outputs": [
        {
          "output_type": "stream",
          "name": "stdout",
          "text": [
            "Fitur yang digunakan untuk modeling:\n",
            "Index(['Socioeconomic Score', 'Study Hours', 'Sleep Hours', 'Attendance (%)'], dtype='object')\n"
          ]
        }
      ]
    },
    {
      "cell_type": "markdown",
      "source": [
        "# **MODELING**"
      ],
      "metadata": {
        "id": "rgiVyGbZk_vU"
      }
    },
    {
      "cell_type": "code",
      "source": [
        "# Memisahkan data menjadi fitur (X) dan target (y)\n",
        "X = df[['Socioeconomic Score', 'Study Hours', 'Sleep Hours', 'Attendance (%)']]\n",
        "y = df['Grades']  # Menggunakan Grades secara langsung sebagai target\n",
        "\n",
        "# Pembagian dataset\n",
        "X_train, X_test, y_train, y_test = train_test_split(X, y, test_size=0.2, random_state=42)\n",
        "\n",
        "# Melatih model dengan Decision Tree C4.5\n",
        "model = DecisionTreeClassifier(criterion='entropy')  # Menggunakan C4.5\n",
        "model.fit(X_train, y_train)\n",
        "\n",
        "# Melakukan prediksi\n",
        "y_pred = model.predict(X_test)\n",
        "\n",
        "\n",
        "# Visualisasi hasil dengan scatter plot\n",
        "plt.figure(figsize=(10, 6))\n",
        "plt.scatter(y_test, y_pred, alpha=0.6)\n",
        "plt.plot([y.min(), y.max()], [y.min(), y.max()], 'r--')  # Garis acuan untuk prediksi sempurna\n",
        "plt.title('Perbandingan Nilai Aktual dan Prediksi')\n",
        "plt.xlabel('Nilai Aktual')\n",
        "plt.ylabel('Nilai Prediksi')\n",
        "plt.xlim(y.min() - 1, y.max() + 1)\n",
        "plt.ylim(y.min() - 1, y.max() + 1)\n",
        "plt.grid()\n",
        "plt.show()"
      ],
      "metadata": {
        "colab": {
          "base_uri": "https://localhost:8080/",
          "height": 564
        },
        "id": "6o1qmmwt5S8h",
        "outputId": "e084859e-4c1b-4e44-8990-c88dde252bd2"
      },
      "execution_count": 193,
      "outputs": [
        {
          "output_type": "display_data",
          "data": {
            "text/plain": [
              "<Figure size 1000x600 with 1 Axes>"
            ],
            "image/png": "[encoded data removed]"
          },
          "metadata": {}
        }
      ]
    },
    {
      "cell_type": "markdown",
      "source": [
        "# **EVALUASI MODEL**"
      ],
      "metadata": {
        "id": "o4wA6Bu8qMN2"
      }
    },
    {
      "cell_type": "code",
      "source": [
        "from sklearn.metrics import accuracy_score, classification_report, confusion_matrix\n",
        "import seaborn as sns\n",
        "import matplotlib.pyplot as plt\n",
        "\n",
        "# Melakukan prediksi\n",
        "y_pred = model.predict(X_test)\n",
        "\n",
        "# Menghitung akurasi\n",
        "accuracy = accuracy_score(y_test, y_pred)\n",
        "print(f'Akurasi Model: {accuracy:.2f}')\n",
        "\n",
        "# Menampilkan classification report\n",
        "print(\"Classification Report:\")\n",
        "print(classification_report(y_test, y_pred))\n"
      ],
      "metadata": {
        "colab": {
          "base_uri": "https://localhost:8080/"
        },
        "id": "0LGQa9yP4EuS",
        "outputId": "2161e6e5-dbb0-4fba-fe1c-dda5fc1fc2f5"
      },
      "execution_count": 190,
      "outputs": [
        {
          "output_type": "stream",
          "name": "stdout",
          "text": [
            "Akurasi Model: 0.28\n",
            "Classification Report:\n",
            "              precision    recall  f1-score   support\n",
            "\n",
            "        32.0       0.00      0.00      0.00         6\n",
            "        33.0       0.15      0.24      0.18        25\n",
            "        34.0       0.45      0.40      0.42        72\n",
            "        35.0       0.34      0.29      0.31        48\n",
            "        36.0       0.08      0.10      0.09        10\n",
            "        37.0       0.57      0.44      0.50         9\n",
            "        38.0       0.25      0.20      0.22         5\n",
            "        39.0       0.17      0.17      0.17         6\n",
            "        40.0       0.00      0.00      0.00         9\n",
            "        41.0       0.43      0.43      0.43         7\n",
            "        42.0       0.12      0.33      0.18         3\n",
            "        43.0       0.00      0.00      0.00         5\n",
            "        44.0       0.33      0.33      0.33         3\n",
            "        45.0       0.29      0.50      0.36         4\n",
            "        46.0       0.20      0.33      0.25         3\n",
            "        47.0       0.50      0.30      0.38        10\n",
            "        48.0       0.00      0.00      0.00         1\n",
            "        49.0       0.14      0.25      0.18         4\n",
            "        50.0       0.25      0.14      0.18         7\n",
            "        51.0       0.50      0.20      0.29         5\n",
            "        52.0       0.33      0.40      0.36         5\n",
            "        53.0       0.50      0.20      0.29         5\n",
            "        54.0       0.50      0.50      0.50         2\n",
            "        55.0       0.00      0.00      0.00         2\n",
            "        56.0       0.33      0.50      0.40         2\n",
            "        57.0       0.00      0.00      0.00         4\n",
            "        58.0       0.00      0.00      0.00         4\n",
            "        59.0       0.25      0.50      0.33         2\n",
            "        60.0       1.00      1.00      1.00         1\n",
            "        61.0       0.00      0.00      0.00         1\n",
            "        62.0       0.50      1.00      0.67         1\n",
            "        63.0       0.00      0.00      0.00         1\n",
            "        64.0       0.00      0.00      0.00         0\n",
            "        65.0       0.00      0.00      0.00         1\n",
            "        66.0       0.00      0.00      0.00         2\n",
            "        67.0       0.00      0.00      0.00         0\n",
            "        70.0       0.00      0.00      0.00         2\n",
            "        73.0       0.00      0.00      0.00         1\n",
            "        78.0       0.00      0.00      0.00         0\n",
            "\n",
            "    accuracy                           0.28       278\n",
            "   macro avg       0.21      0.22      0.21       278\n",
            "weighted avg       0.30      0.28      0.28       278\n",
            "\n"
          ]
        },
        {
          "output_type": "stream",
          "name": "stderr",
          "text": [
            "/usr/local/lib/python3.11/dist-packages/sklearn/metrics/_classification.py:1565: UndefinedMetricWarning: Precision is ill-defined and being set to 0.0 in labels with no predicted samples. Use `zero_division` parameter to control this behavior.\n",
            "  _warn_prf(average, modifier, f\"{metric.capitalize()} is\", len(result))\n",
            "/usr/local/lib/python3.11/dist-packages/sklearn/metrics/_classification.py:1565: UndefinedMetricWarning: Recall is ill-defined and being set to 0.0 in labels with no true samples. Use `zero_division` parameter to control this behavior.\n",
            "  _warn_prf(average, modifier, f\"{metric.capitalize()} is\", len(result))\n",
            "/usr/local/lib/python3.11/dist-packages/sklearn/metrics/_classification.py:1565: UndefinedMetricWarning: Precision is ill-defined and being set to 0.0 in labels with no predicted samples. Use `zero_division` parameter to control this behavior.\n",
            "  _warn_prf(average, modifier, f\"{metric.capitalize()} is\", len(result))\n",
            "/usr/local/lib/python3.11/dist-packages/sklearn/metrics/_classification.py:1565: UndefinedMetricWarning: Recall is ill-defined and being set to 0.0 in labels with no true samples. Use `zero_division` parameter to control this behavior.\n",
            "  _warn_prf(average, modifier, f\"{metric.capitalize()} is\", len(result))\n",
            "/usr/local/lib/python3.11/dist-packages/sklearn/metrics/_classification.py:1565: UndefinedMetricWarning: Precision is ill-defined and being set to 0.0 in labels with no predicted samples. Use `zero_division` parameter to control this behavior.\n",
            "  _warn_prf(average, modifier, f\"{metric.capitalize()} is\", len(result))\n",
            "/usr/local/lib/python3.11/dist-packages/sklearn/metrics/_classification.py:1565: UndefinedMetricWarning: Recall is ill-defined and being set to 0.0 in labels with no true samples. Use `zero_division` parameter to control this behavior.\n",
            "  _warn_prf(average, modifier, f\"{metric.capitalize()} is\", len(result))\n"
          ]
        }
      ]
    }
  ]
}